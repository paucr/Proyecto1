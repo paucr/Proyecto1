{
 "cells": [
  {
   "cell_type": "markdown",
   "id": "23f2c5bd",
   "metadata": {},
   "source": [
    "# Ejercicio  1"
   ]
  },
  {
   "cell_type": "code",
   "execution_count": 62,
   "id": "87a85bd6",
   "metadata": {},
   "outputs": [],
   "source": [
    "def suma_multiplicacion (x, y):\n",
    "    multi = x * y\n",
    "    suma = x + y\n",
    "\n",
    "    if multi >=1000:\n",
    "        print(multi)\n",
    "    else:\n",
    "        print(suma)"
   ]
  },
  {
   "cell_type": "code",
   "execution_count": 63,
   "id": "d968ac5f",
   "metadata": {
    "scrolled": true
   },
   "outputs": [
    {
     "name": "stdout",
     "output_type": "stream",
     "text": [
      "500\n"
     ]
    }
   ],
   "source": [
    "suma_multiplicacion (500,0)"
   ]
  },
  {
   "cell_type": "markdown",
   "id": "390f6f00",
   "metadata": {},
   "source": [
    "# Ejercicio 2"
   ]
  },
  {
   "cell_type": "code",
   "execution_count": 67,
   "id": "b5a37200",
   "metadata": {},
   "outputs": [],
   "source": [
    "def bucle_natural ():\n",
    "\n",
    "    i = 0\n",
    "    while (i <= 14):\n",
    "        i +=1\n",
    "        print(i,end=',')"
   ]
  },
  {
   "cell_type": "code",
   "execution_count": 68,
   "id": "5f913113",
   "metadata": {},
   "outputs": [
    {
     "name": "stdout",
     "output_type": "stream",
     "text": [
      "1,2,3,4,5,6,7,8,9,10,11,12,13,14,15,"
     ]
    }
   ],
   "source": [
    "bucle_natural();"
   ]
  },
  {
   "cell_type": "markdown",
   "id": "f9e7d79d",
   "metadata": {},
   "source": [
    "# Ejercicio 3"
   ]
  },
  {
   "cell_type": "code",
   "execution_count": 61,
   "id": "036a157d",
   "metadata": {},
   "outputs": [],
   "source": [
    "def rango ():\n",
    "    \n",
    "    for i in range(1, 16,):\n",
    "        print(i, end=\", \")"
   ]
  },
  {
   "cell_type": "code",
   "execution_count": 62,
   "id": "0d3ef32e",
   "metadata": {},
   "outputs": [
    {
     "name": "stdout",
     "output_type": "stream",
     "text": [
      "1, 2, 3, 4, 5, 6, 7, 8, 9, 10, 11, 12, 13, 14, 15, "
     ]
    }
   ],
   "source": [
    "rango()"
   ]
  },
  {
   "cell_type": "markdown",
   "id": "6aee1583",
   "metadata": {},
   "source": [
    "# Ejercicio 4"
   ]
  },
  {
   "cell_type": "code",
   "execution_count": 6,
   "id": "2709f327",
   "metadata": {},
   "outputs": [],
   "source": [
    "def sumar_auto ():\n",
    "    \n",
    "    x = int(input(\"Ingrese longitud: \"))\n",
    "    \n",
    "    resultado = 0\n",
    "    \n",
    "    for a in list(range(0,x+1)):\n",
    "        resultado += a\n",
    "        \n",
    "    print(resultado)\n"
   ]
  },
  {
   "cell_type": "code",
   "execution_count": 8,
   "id": "c95b1d21",
   "metadata": {
    "scrolled": true
   },
   "outputs": [
    {
     "name": "stdout",
     "output_type": "stream",
     "text": [
      "Ingrese longitud: 10\n",
      "55\n"
     ]
    }
   ],
   "source": [
    "sumar_auto()"
   ]
  },
  {
   "cell_type": "markdown",
   "id": "2ae3367f",
   "metadata": {},
   "source": [
    "# Ejercicio 5"
   ]
  },
  {
   "cell_type": "code",
   "execution_count": 63,
   "id": "53773f92",
   "metadata": {},
   "outputs": [],
   "source": [
    "def multi ():\n",
    "\n",
    "    a = int (input(\"Ingresa un numero\"))\n",
    "    for f in range(1,11):\n",
    "        multiplicacion = a * f #hacemos la multiplicación\n",
    "        print(f' {a}  x {f} = {multiplicacion}') #mostramos el resultado\n"
   ]
  },
  {
   "cell_type": "code",
   "execution_count": 64,
   "id": "35ef162a",
   "metadata": {},
   "outputs": [
    {
     "name": "stdout",
     "output_type": "stream",
     "text": [
      "Ingresa un numero10\n",
      " 10  x 1 = 10\n",
      " 10  x 2 = 20\n",
      " 10  x 3 = 30\n",
      " 10  x 4 = 40\n",
      " 10  x 5 = 50\n",
      " 10  x 6 = 60\n",
      " 10  x 7 = 70\n",
      " 10  x 8 = 80\n",
      " 10  x 9 = 90\n",
      " 10  x 10 = 100\n"
     ]
    }
   ],
   "source": [
    "multi()"
   ]
  },
  {
   "cell_type": "markdown",
   "id": "73671634",
   "metadata": {},
   "source": [
    "# Ejercicio 6"
   ]
  },
  {
   "cell_type": "code",
   "execution_count": 66,
   "id": "4a57dbe9",
   "metadata": {},
   "outputs": [],
   "source": [
    "def lista_inv ():\n",
    "\n",
    "    Numeros = ['20', '60', '80', '100']\n",
    "    Numeros.reverse()\n",
    "    print('Lista invertida', Numeros)\n"
   ]
  },
  {
   "cell_type": "code",
   "execution_count": 67,
   "id": "fd9bf83d",
   "metadata": {},
   "outputs": [
    {
     "name": "stdout",
     "output_type": "stream",
     "text": [
      "Lista invertida ['100', '80', '60', '20']\n"
     ]
    }
   ],
   "source": [
    "lista_inv()"
   ]
  },
  {
   "cell_type": "markdown",
   "id": "10672173",
   "metadata": {},
   "source": [
    "# Ejercicio 7"
   ]
  },
  {
   "cell_type": "code",
   "execution_count": 68,
   "id": "6822af5e",
   "metadata": {},
   "outputs": [],
   "source": [
    "def lista_max ():\n",
    "    \n",
    "    Numeros = ['17', '30', '2', '100', '400', '15']\n",
    "    max_numeros = max(Numeros)\n",
    "    print('El numero mas grande es', max(Numeros))\n"
   ]
  },
  {
   "cell_type": "code",
   "execution_count": 69,
   "id": "61ae0fae",
   "metadata": {},
   "outputs": [
    {
     "name": "stdout",
     "output_type": "stream",
     "text": [
      "El numero mas grande es 400\n"
     ]
    }
   ],
   "source": [
    "lista_max()"
   ]
  },
  {
   "cell_type": "markdown",
   "id": "55e01852",
   "metadata": {},
   "source": [
    "# Ejercicio 8"
   ]
  },
  {
   "cell_type": "code",
   "execution_count": 55,
   "id": "6162290c",
   "metadata": {},
   "outputs": [],
   "source": [
    "def lista_auto ():\n",
    "    \n",
    "    lista = '&#Pr@j3ctE#D4M#&'\n",
    "    alphabets = digits = special = 0\n",
    "\n",
    "    for i in range(len(lista)):\n",
    "        if(lista[i].isalpha()):#Usamos la funcion alpha para saber si el caracter esta dentro del abecedario\n",
    "            alphabets = alphabets + 1\n",
    "        elif(lista[i].isdigit()):#Lo usamos para saber si es un digito\n",
    "            digits = digits + 1\n",
    "        else:\n",
    "            special = special + 1#Si no es ninguno de los mencionados anteriormente será caracter especial\n",
    "        \n",
    "    print(\"\\nTiene un total de\",alphabets, \"letras\")\n",
    "    print(\"Tiene un total de\",digits, \"digitos\")\n",
    "    print(\"Tiene un total de\",special, \"caracteres especiales\")"
   ]
  },
  {
   "cell_type": "code",
   "execution_count": 56,
   "id": "af478ce1",
   "metadata": {},
   "outputs": [
    {
     "name": "stdout",
     "output_type": "stream",
     "text": [
      "\n",
      "Tiene un total de 8 letras\n",
      "Tiene un total de 2 digitos\n",
      "Tiene un total de 6 caracteres especiales\n"
     ]
    }
   ],
   "source": [
    "lista_auto()"
   ]
  },
  {
   "cell_type": "code",
   "execution_count": null,
   "id": "d9c7a6dd",
   "metadata": {},
   "outputs": [],
   "source": []
  }
 ],
 "metadata": {
  "kernelspec": {
   "display_name": "Python 3 (ipykernel)",
   "language": "python",
   "name": "python3"
  },
  "language_info": {
   "codemirror_mode": {
    "name": "ipython",
    "version": 3
   },
   "file_extension": ".py",
   "mimetype": "text/x-python",
   "name": "python",
   "nbconvert_exporter": "python",
   "pygments_lexer": "ipython3",
   "version": "3.9.12"
  }
 },
 "nbformat": 4,
 "nbformat_minor": 5
}
